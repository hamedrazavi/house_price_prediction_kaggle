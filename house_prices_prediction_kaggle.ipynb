{
 "cells": [
  {
   "cell_type": "markdown",
   "metadata": {},
   "source": [
    "# House prices prediction (kaggle.com)\n",
    "In the Ames Housing dataset on kaggle, we would like to predict house prices with regression models. Thanks to @Serigne on kaggle.com for some helpful hints. "
   ]
  },
  {
   "cell_type": "markdown",
   "metadata": {},
   "source": [
    "### Import Libraries"
   ]
  },
  {
   "cell_type": "code",
   "execution_count": null,
   "metadata": {},
   "outputs": [],
   "source": [
    "import pandas as pd\n",
    "from sklearn import model_selection, linear_model, ensemble, metrics\n",
    "from sklearn.preprocessing import LabelEncoder\n",
    "from matplotlib import pyplot as plt\n",
    "%matplotlib inline\n",
    "import numpy as np\n",
    "import seaborn as sns\n",
    "pd.set_option('display.float_format', lambda x: '{:.3f}'.format(x)) #Limiting floats output to 3 decimal points\n",
    "from sklearn.pipeline import make_pipeline\n",
    "from sklearn.preprocessing import RobustScaler\n",
    "import xgboost as xgb\n",
    "from sklearn.base import clone\n",
    "from sklearn.kernel_ridge import KernelRidge"
   ]
  },
  {
   "cell_type": "markdown",
   "metadata": {},
   "source": [
    "## 1. Import and explore the data "
   ]
  },
  {
   "cell_type": "code",
   "execution_count": null,
   "metadata": {},
   "outputs": [],
   "source": [
    "trData = pd.read_csv('train.csv')\n",
    "testData = pd.read_csv('test.csv')\n",
    "data_list = [trData, testData]"
   ]
  },
  {
   "cell_type": "code",
   "execution_count": null,
   "metadata": {
    "scrolled": true
   },
   "outputs": [],
   "source": [
    "print(\"The size of the training data is {}.\".format(trData.shape))\n",
    "print(\"The size of the test data is {}.\".format(testData.shape))"
   ]
  },
  {
   "cell_type": "markdown",
   "metadata": {},
   "source": [
    "The test and train data have almost the same number of samples (~1460)! "
   ]
  },
  {
   "cell_type": "code",
   "execution_count": null,
   "metadata": {},
   "outputs": [],
   "source": [
    "trData.head()"
   ]
  },
  {
   "cell_type": "code",
   "execution_count": null,
   "metadata": {},
   "outputs": [],
   "source": [
    "trData.describe()"
   ]
  },
  {
   "cell_type": "markdown",
   "metadata": {},
   "source": [
    "## 2. Clean, fill in the missing data, and remove outliers"
   ]
  },
  {
   "cell_type": "markdown",
   "metadata": {},
   "source": [
    "What are the missing data? "
   ]
  },
  {
   "cell_type": "code",
   "execution_count": null,
   "metadata": {},
   "outputs": [],
   "source": [
    "trData.columns"
   ]
  },
  {
   "cell_type": "code",
   "execution_count": null,
   "metadata": {},
   "outputs": [],
   "source": [
    "nullCounts = trData.isnull().sum()\n",
    "nullCounts[nullCounts > 0]"
   ]
  },
  {
   "cell_type": "code",
   "execution_count": null,
   "metadata": {},
   "outputs": [],
   "source": [
    "nullCountsTest = testData.isnull().sum()\n",
    "nullCountsTest[nullCountsTest > 0]"
   ]
  },
  {
   "cell_type": "code",
   "execution_count": null,
   "metadata": {},
   "outputs": [],
   "source": [
    "def CheckNull(df, feature):\n",
    "    print(df[feature].isnull().sum())"
   ]
  },
  {
   "cell_type": "markdown",
   "metadata": {},
   "source": [
    "### 2.1 Fill in the missing data\n",
    "We fill in the missing data with either mean() or mode(). "
   ]
  },
  {
   "cell_type": "code",
   "execution_count": null,
   "metadata": {},
   "outputs": [],
   "source": [
    "testData['TotalBsmtSF'].fillna(testData['TotalBsmtSF'].mean(), inplace = True)\n",
    "testData['GarageArea'].fillna(testData['GarageArea'].mean(), inplace = True)\n",
    "testData['MSZoning'].fillna(testData['MSZoning'].mode()[0], inplace = True)\n",
    "testData['SaleType'].fillna(testData['SaleType'].mode()[0], inplace = True)\n",
    "for data in data_list:\n",
    "    data['LotFrontage'].fillna(data['LotFrontage'].mean(), inplace = True)\n",
    "    data['BsmtQual'].fillna(data['BsmtQual'].mode()[0], inplace = True)\n",
    "    data['Functional'].fillna(data['Functional'].mode()[0], inplace = True)\n",
    "    data['GarageYrBlt'].fillna(data['GarageYrBlt'].mean(), inplace = True)\n",
    "    data['GarageCars'].fillna(data['GarageCars'].mode()[0], inplace = True)\n",
    "    data['Electrical'].fillna(data['Electrical'].mode()[0], inplace = True)\n",
    "    data['MasVnrType'].fillna(data['MasVnrType'].mode()[0], inplace = True)\n",
    "    data['MasVnrArea'].fillna(data['MasVnrArea'].mean(), inplace = True)\n",
    "    data['BsmtCond'].fillna(data['BsmtCond'].mode()[0], inplace = True)\n",
    "    data['BsmtExposure'].fillna(data['BsmtExposure'].mode()[0], inplace = True)\n",
    "    data['GarageType'].fillna(data['GarageType'].mode()[0], inplace = True)\n",
    "    data['BsmtFinSF1'].fillna(data['BsmtFinSF1'].mean(), inplace = True)\n",
    "    data['PoolQC'].fillna('None', inplace = True)\n",
    "    data['MiscFeature'].fillna('None', inplace = True)\n",
    "    data['Alley'].fillna('None', inplace = True)\n",
    "    data['Fence'].fillna('None', inplace = True)"
   ]
  },
  {
   "cell_type": "code",
   "execution_count": null,
   "metadata": {},
   "outputs": [],
   "source": [
    "for data in data_list:\n",
    "    data['GarageTypeSmple'] = data['GarageType']\n",
    "    data['GarageTypeSmple'] = data['GarageType'].replace(['Basment', 'CarPort', '2Types'], 'Rare')\n",
    "    data['ExterCondSmple'] = data['ExterCond'].replace(['Fa', 'Ex', 'Po'], 'Rare')\n",
    "    data['HasDeckPorch'] = ((data['WoodDeckSF'] > 0) | (data['OpenPorchSF'] > 0) | (data['EnclosedPorch']) > 0 |\n",
    "                            (data['3SsnPorch'] > 0) | (data['ScreenPorch'] > 0)) * 1\n",
    "    data['HasPool'] = (data['PoolArea'] > 0) * 1\n",
    "    data['HalfFullBath'] = data['FullBath'] + data['HalfBath']\n",
    "    data['SaleTypeSmple'] = data['SaleType'].replace(['CoD', 'ConLD', 'ConLw', 'ConLI', 'Oth', 'Con', 'CWD'], 'Rare')"
   ]
  },
  {
   "cell_type": "markdown",
   "metadata": {},
   "source": [
    "### 2.2 Convert to numeric\n",
    "We now convert the non-numeric values to numeric values. "
   ]
  },
  {
   "cell_type": "markdown",
   "metadata": {},
   "source": [
    "Transform categorial type features to numeric:"
   ]
  },
  {
   "cell_type": "code",
   "execution_count": null,
   "metadata": {},
   "outputs": [],
   "source": [
    "combinedData = pd.concat(objs = [trData, testData], axis = 0).reset_index(drop = True)\n",
    "Ntr = len(trData)\n",
    "Ntest = len(testData)\n",
    "Ntot = len(combinedData)\n",
    "label = LabelEncoder()\n",
    "label.fit(combinedData['Neighborhood']) \n",
    "labelZone = LabelEncoder()\n",
    "labelZone.fit(combinedData['MSZoning'])\n",
    "labelBldgType = LabelEncoder()\n",
    "labelBldgType.fit(combinedData['BldgType'])\n",
    "labelHouseStyle = LabelEncoder()\n",
    "labelHouseStyle.fit(combinedData['HouseStyle'])\n",
    "labelListOld = ['Neighborhood', 'MSZoning', 'BldgType', 'HouseStyle', 'Foundation', 'CentralAir', \n",
    "                'PavedDrive', 'SaleType', 'SaleCondition', 'BsmtQual', 'Heating', 'Functional', 'Street', \n",
    "               'ExterCond', 'RoofMatl', 'RoofStyle', 'LandContour', 'Condition1', 'Condition2', 'Electrical',\n",
    "               'MasVnrType', 'ExterQual', 'GarageTypeSmple', 'ExterCondSmple', 'SaleTypeSmple', 'BsmtCond', 'PoolQC', \n",
    "               'MiscFeature', 'Alley', 'Fence']\n",
    "labelListNew = ['NeighborhoodCode', 'MSZoningCode', 'BldgTypeCode', 'HouseStyleCode', 'FoundationCode', 'CentralAirCode', \n",
    "                'PavedDriveCode', 'SaleTypeCode', 'SaleConditionCode', 'BsmtQualCode', 'HeatingCode', 'FunctionalCode', \n",
    "               'StreetCode', 'ExterCondCode', 'RoofMatlCode', 'RoofStyleCode', 'LandContour', 'Condition1Code', \n",
    "               'Condition2Code', 'ElectricalCode', 'MasVnrTypeCode', 'ExterQualCode', 'GarageTypeSmpleCode', 'ExterCondSmpleCode',\n",
    "               'SaleTypeSmpleCode', 'BsmtCondCode', 'PoolQCCode', 'MiscFeatureCode', 'AlleyCode', 'FenceCode']\n",
    "\n",
    "for data in data_list: \n",
    "    for i in range(len(labelListOld)):\n",
    "        label_encoder = LabelEncoder()\n",
    "        label_encoder.fit(combinedData[labelListOld[i]])\n",
    "        data[labelListNew[i]] = label_encoder.transform(data[labelListOld[i]])"
   ]
  },
  {
   "cell_type": "markdown",
   "metadata": {},
   "source": [
    "### Graph the price (output) and features (input) distributions:"
   ]
  },
  {
   "cell_type": "code",
   "execution_count": null,
   "metadata": {},
   "outputs": [],
   "source": [
    "f, ax = plt.subplots(1, 2, figsize = (15, 5))\n",
    "FZ = 15\n",
    "ax[0].hist(trData['SalePrice'])\n",
    "ax[0].set_title('House prices distribusion (USD)', fontsize = FZ)\n",
    "ax[0].set_xlabel('Sale Price', fontsize = FZ)\n",
    "ax[0].set_ylabel('Counts', fontsize = FZ)\n",
    "\n",
    "ax[1].hist(trData['SalePrice'] / trData['GrLivArea'])\n",
    "ax[1].set_title('House prices per Living Area distribusion (USD)', fontsize = FZ)\n",
    "ax[1].set_xlabel('Sale Price', fontsize = FZ)\n",
    "ax[1].set_ylabel('Counts', fontsize = FZ)"
   ]
  },
  {
   "cell_type": "code",
   "execution_count": null,
   "metadata": {},
   "outputs": [],
   "source": [
    "trData['PricePerArea'] = trData['SalePrice'] / trData['GrLivArea']\n",
    "trData['PricePerArea'].mean()"
   ]
  },
  {
   "cell_type": "markdown",
   "metadata": {},
   "source": [
    "For simplicity we will convert the price to $1000:"
   ]
  },
  {
   "cell_type": "code",
   "execution_count": null,
   "metadata": {},
   "outputs": [],
   "source": [
    "trData['SalePriceK'] = trData['SalePrice'] / 1000"
   ]
  },
  {
   "cell_type": "markdown",
   "metadata": {},
   "source": [
    "The average house price per square feet of living area (GrLivArea) is around 120 USD. "
   ]
  },
  {
   "cell_type": "code",
   "execution_count": null,
   "metadata": {},
   "outputs": [],
   "source": [
    "trData[\"SalePriceLog\"] = np.log1p(trData[\"SalePrice\"])"
   ]
  },
  {
   "cell_type": "markdown",
   "metadata": {},
   "source": [
    "### 2.3 Remove the outliers"
   ]
  },
  {
   "cell_type": "code",
   "execution_count": null,
   "metadata": {
    "scrolled": true
   },
   "outputs": [],
   "source": [
    "plt.scatter(x = trData['GrLivArea'], y = trData['SalePrice'])\n",
    "plt.grid()\n",
    "plt.ylabel('SalePrice', fontsize=13)\n",
    "plt.xlabel('GrLivArea', fontsize=13)"
   ]
  },
  {
   "cell_type": "code",
   "execution_count": null,
   "metadata": {},
   "outputs": [],
   "source": [
    "trData.drop(trData[(trData['GrLivArea']>4000) & (trData['SalePrice']<300000)].index, inplace = True)\n",
    "combinedData = pd.concat(objs = [trData, testData], axis = 0).reset_index(drop = True)"
   ]
  },
  {
   "cell_type": "markdown",
   "metadata": {},
   "source": [
    "After removing the two outliers:"
   ]
  },
  {
   "cell_type": "code",
   "execution_count": null,
   "metadata": {},
   "outputs": [],
   "source": [
    "sns.regplot(x = trData['GrLivArea'], y = trData['SalePrice'] /trData['GrLivArea'])\n",
    "plt.grid()\n",
    "plt.ylabel('SalePrice', fontsize=13)\n",
    "plt.xlabel('GrLivArea', fontsize=13)"
   ]
  },
  {
   "cell_type": "markdown",
   "metadata": {},
   "source": [
    "Another possiblity for outliers is the price per area. There is only one house with a price per square foot less than $31, and the next lowest price is $40, so, we remove the cheapest one:"
   ]
  },
  {
   "cell_type": "code",
   "execution_count": null,
   "metadata": {},
   "outputs": [],
   "source": [
    "trData[trData['SalePrice'] / trData['GrLivArea'] < 31]"
   ]
  },
  {
   "cell_type": "code",
   "execution_count": null,
   "metadata": {},
   "outputs": [],
   "source": [
    "trData.drop(trData[trData['SalePrice'] / trData['GrLivArea'] < 31].index, inplace = True)"
   ]
  },
  {
   "cell_type": "code",
   "execution_count": null,
   "metadata": {},
   "outputs": [],
   "source": [
    "plt.scatter(x = trData['GrLivArea'], y = trData['SalePrice'] / trData['GrLivArea'])"
   ]
  },
  {
   "cell_type": "code",
   "execution_count": null,
   "metadata": {
    "scrolled": false
   },
   "outputs": [],
   "source": [
    "sns.regplot(x = trData['OverallQual'], y = trData['SalePrice'] / trData['GrLivArea'])\n",
    "plt.grid()"
   ]
  },
  {
   "cell_type": "code",
   "execution_count": null,
   "metadata": {},
   "outputs": [],
   "source": [
    "trData['PoolQC'].value_counts()"
   ]
  },
  {
   "cell_type": "markdown",
   "metadata": {},
   "source": [
    "## 3. Feature engineering\n",
    "We investigate the correlation between the features and the sale price."
   ]
  },
  {
   "cell_type": "code",
   "execution_count": null,
   "metadata": {},
   "outputs": [],
   "source": [
    "f, ax = plt.subplots(3, 3, figsize = (12, 10))\n",
    "plt.subplot(3, 3, 1)\n",
    "sns.regplot(x = 'GrLivArea', y = 'SalePriceK', data = trData)\n",
    "plt.subplot(3, 3, 2)\n",
    "sns.barplot(x = 'BedroomAbvGr', y = 'SalePriceK', data = trData)\n",
    "plt.subplot(3, 3, 3)\n",
    "sns.regplot(x = 'YearBuilt', y = 'SalePriceK', data = trData)\n",
    "plt.subplot(3, 3, 4)\n",
    "sns.barplot(x = 'OverallCond', y = 'SalePriceK', data = trData)\n",
    "plt.subplot(3, 3, 5)\n",
    "sns.barplot(x = 'OverallQual', y = 'SalePriceK', data = trData)\n",
    "plt.subplot(3, 3, 6)\n",
    "sns.barplot(x = 'MoSold', y = 'SalePriceK', data = trData)\n",
    "plt.subplot(3, 3, 7)\n",
    "sns.barplot(x = 'NeighborhoodCode', y = 'SalePriceK', data = trData)\n",
    "plt.subplot(3, 3, 8)\n",
    "sns.barplot(x = 'MSZoningCode', y = 'SalePriceK', data = trData)\n",
    "plt.subplot(3, 3, 9)\n",
    "sns.barplot(x = 'Condition2', y = 'SalePriceK', data = trData)\n",
    "plt.tight_layout() "
   ]
  },
  {
   "cell_type": "code",
   "execution_count": null,
   "metadata": {},
   "outputs": [],
   "source": [
    "# tmpData = trData\n",
    "# tmpData['1stFlrSF_2ndFlrSF'] = trData['1stFlrSF'] + trData['2ndFlrSF']\n",
    "sns.barplot(x = 'Alley', y = 'SalePriceK', data = trData)\n",
    "print(trData['Alley'].value_counts())\n",
    "CheckNull(combinedData, 'BsmtCond')"
   ]
  },
  {
   "cell_type": "code",
   "execution_count": null,
   "metadata": {},
   "outputs": [],
   "source": [
    "CheckNull(combinedData, 'ExterQual')"
   ]
  },
  {
   "cell_type": "code",
   "execution_count": null,
   "metadata": {},
   "outputs": [],
   "source": [
    "for data in data_list:\n",
    "    data['GarageCarsSmple'] = data['GarageCars'].replace(4, 3)"
   ]
  },
  {
   "cell_type": "code",
   "execution_count": null,
   "metadata": {},
   "outputs": [],
   "source": [
    "sns.barplot(x = 'HalfFullBath', y = 'SalePriceK', data = trData)\n",
    "print(trData['HalfFullBath'].value_counts())"
   ]
  },
  {
   "cell_type": "code",
   "execution_count": null,
   "metadata": {},
   "outputs": [],
   "source": [
    "sns.barplot(x = 'HasDeckPorch', y = 'SalePriceK', data = trData)\n",
    "print(trData['HasDeckPorch'].value_counts())"
   ]
  },
  {
   "cell_type": "code",
   "execution_count": null,
   "metadata": {},
   "outputs": [],
   "source": [
    "sns.barplot(x = 'FireplaceQu', y = 'SalePriceK', data = trData)\n",
    "print(trData['FireplaceQu'].value_counts())\n",
    "CheckNull(combinedData, 'FireplaceQu')"
   ]
  },
  {
   "cell_type": "markdown",
   "metadata": {},
   "source": [
    "Since only 'Gd' condition has a significant different with the rest, we define a new feature: "
   ]
  },
  {
   "cell_type": "code",
   "execution_count": null,
   "metadata": {},
   "outputs": [],
   "source": [
    "for data in data_list:\n",
    "    data['BsmtExposureGd'] = (data['BsmtExposure'] == 'Gd') * 1"
   ]
  },
  {
   "cell_type": "code",
   "execution_count": null,
   "metadata": {},
   "outputs": [],
   "source": [
    "for data in data_list:\n",
    "    data['TotalSF'] = data['TotalBsmtSF'] + data['1stFlrSF'] + data['2ndFlrSF']"
   ]
  },
  {
   "cell_type": "code",
   "execution_count": null,
   "metadata": {},
   "outputs": [],
   "source": [
    "f, ax = plt.subplots(3, 3, figsize = (12, 10))\n",
    "plt.subplot(4, 3, 1)\n",
    "sns.barplot(x = 'HouseStyleCode', y = 'SalePriceK', data = trData)\n",
    "plt.subplot(4, 3, 2)\n",
    "sns.barplot(x = 'ExterCond', y = 'SalePriceK', data = trData)\n",
    "plt.subplot(4, 3, 3)\n",
    "sns.barplot(x = 'CentralAir', y = 'SalePriceK', data = trData)\n",
    "plt.subplot(4, 3, 4)\n",
    "sns.barplot(x = 'PavedDrive', y = 'SalePriceK', data = trData)\n",
    "plt.subplot(4, 3, 5)\n",
    "sns.barplot(x = 'LotConfig', y = 'SalePriceK', data = trData)\n",
    "plt.subplot(4, 3, 6)\n",
    "sns.barplot(x = 'BsmtQual', y = 'SalePriceK', data = trData)\n",
    "plt.subplot(4, 3, 7)\n",
    "sns.barplot(x = 'NeighborhoodCode', y = 'SalePriceK', data = trData)\n",
    "plt.subplot(4, 3, 8)\n",
    "sns.barplot(x = 'Functional', y = 'SalePriceK', data = trData)\n",
    "plt.subplot(4, 3, 9)\n",
    "sns.regplot(x = 'YearRemodAdd', y = 'SalePriceK', data = trData)\n",
    "plt.tight_layout() \n",
    "plt.subplot(4, 3, 10) \n",
    "sns.barplot(x = 'BsmtQual', y = 'SalePriceK', data = trData)\n",
    "plt.subplot(4, 3, 11) \n",
    "sns.barplot(x = 'OverallCond', y = 'SalePriceK', data = trData) \n",
    "plt.subplot(4, 3, 12) \n",
    "sns.regplot(x = 'GarageYrBlt', y = 'SalePriceK', data = trData)"
   ]
  },
  {
   "cell_type": "markdown",
   "metadata": {},
   "source": [
    "House age seems to be an important feature correlated with the saleprice:"
   ]
  },
  {
   "cell_type": "code",
   "execution_count": null,
   "metadata": {},
   "outputs": [],
   "source": [
    "trData['YearBuilt'].describe()"
   ]
  },
  {
   "cell_type": "code",
   "execution_count": null,
   "metadata": {},
   "outputs": [],
   "source": [
    "for data in data_list:\n",
    "    data['HouseAge'] = data['YrSold'] - data['YearBuilt']\n",
    "    data['YrfromRemod'] = data['YrSold'] - data['YearRemodAdd']\n",
    "    data['YrSoldFrom2006'] = data['YrSold'] - 2006\n",
    "    data['YrBuiltFrom1971'] = data['YearBuilt'] - 1971"
   ]
  },
  {
   "cell_type": "code",
   "execution_count": null,
   "metadata": {
    "scrolled": true
   },
   "outputs": [],
   "source": [
    "sns.regplot(x = 'YearBuilt', y = 'PricePerArea', data = trData)"
   ]
  },
  {
   "cell_type": "code",
   "execution_count": null,
   "metadata": {},
   "outputs": [],
   "source": [
    "cor_col = ['GrLivArea', 'HouseAge', 'OverallCond', 'OverallQual', 'KitchenAbvGr', 'GarageArea', \n",
    "           'Functional', 'TotalBsmtSF',  'MSSubClass', 'NeighborhoodCode', 'MSZoningCode',\n",
    "           'BldgTypeCode', 'HouseStyleCode', 'FoundationCode', 'CentralAirCode', 'PavedDriveCode', \n",
    "           'LotArea', 'RoofStyleCode', 'SalePrice']"
   ]
  },
  {
   "cell_type": "code",
   "execution_count": null,
   "metadata": {},
   "outputs": [],
   "source": [
    "def correlation_heatmap(df):\n",
    "    _ , ax = plt.subplots(figsize =(14, 12))\n",
    "    colormap = sns.diverging_palette(220, 10, as_cmap = True)\n",
    "    \n",
    "    _ = sns.heatmap(\n",
    "        df.corr(), \n",
    "        cmap = colormap,\n",
    "        square=True, \n",
    "        cbar_kws={'shrink':.9 }, \n",
    "        ax=ax,\n",
    "        annot=True, \n",
    "        linewidths=0.1,vmax=1.0, linecolor='white',\n",
    "        annot_kws={'fontsize':12 }\n",
    "    )\n",
    "    \n",
    "    plt.title('Pearson Correlation of Features', y=1.05, size=15)\n",
    "\n",
    "correlation_heatmap(trData[cor_col])"
   ]
  },
  {
   "cell_type": "code",
   "execution_count": null,
   "metadata": {},
   "outputs": [],
   "source": [
    "combinedData['Condition2'].value_counts()"
   ]
  },
  {
   "cell_type": "markdown",
   "metadata": {},
   "source": [
    "## 4. Train the models and predict"
   ]
  },
  {
   "cell_type": "code",
   "execution_count": null,
   "metadata": {},
   "outputs": [],
   "source": [
    "selected_features = ['GrLivArea', 'HouseAge', 'OverallQual', 'BedroomAbvGr', 'KitchenAbvGr', \n",
    "                     'FullBath', 'GarageArea', 'Fireplaces', 'MSSubClass', \n",
    "                     'MSZoningCode', 'BldgTypeCode', 'HouseStyleCode', \n",
    "                     'FoundationCode', 'CentralAirCode', 'PavedDriveCode', 'LotArea', \n",
    "                     'YearRemodAdd', 'BsmtQualCode', 'TotRmsAbvGrd', 'OverallCond', 'LandContour',\n",
    "                     'MasVnrTypeCode', 'BsmtExposureGd', 'YearBuilt', 'GarageTypeSmpleCode', 'GarageCarsSmple',\n",
    "                     'HasDeckPorch', 'BsmtFinSF1', 'NeighborhoodCode', 'TotalSF']\n",
    "# good GarageCarsSmple HouseStyleCode CentralAirCode BsmtQualCode OverallCond Fireplaces TotalBsmtSF MSSubClass MSZoningCode\n",
    "# bad BsmtExposureGd GarageArea FoundationCode LandContour HasDeckPorch FullBath MasVnrTypeCode BedroomAbvGr\n",
    "# bad PavedDriveCode BldgTypeBsmtExposureGdCode GarageTypeSmpleCode KitchenAbvGr\n",
    "selected_features = ['GrLivArea', 'OverallQual', 'BsmtFinSF1', 'HouseAge', 'NeighborhoodCode', 'YearRemodAdd', \n",
    "                    'GarageCarsSmple', 'LotArea', 'OverallCond', 'Fireplaces',\n",
    "                    'HouseStyleCode', 'MSSubClass',  'BsmtQualCode', 'PavedDriveCode', 'MasVnrTypeCode', 'TotalSF'\n",
    "                    ]\n",
    "\n",
    "X = trData[selected_features]\n",
    "y = trData['SalePrice']"
   ]
  },
  {
   "cell_type": "code",
   "execution_count": null,
   "metadata": {},
   "outputs": [],
   "source": [
    "Xtrain, Xtest, ytrain, ytest = model_selection.train_test_split(X, y, test_size = 0.5, train_size = 0.5, random_state=1)"
   ]
  },
  {
   "cell_type": "code",
   "execution_count": null,
   "metadata": {},
   "outputs": [],
   "source": [
    "n_folds = 10\n",
    "def rmsle_cv(model):\n",
    "    kf = model_selection.KFold(n_folds, shuffle=True, random_state=42).get_n_splits(X)\n",
    "    rmse= np.sqrt(-model_selection.cross_val_score(model, X, y, scoring=\"neg_mean_squared_error\", cv = kf))\n",
    "    return(sum(rmse)/n_folds)"
   ]
  },
  {
   "cell_type": "code",
   "execution_count": null,
   "metadata": {
    "scrolled": false
   },
   "outputs": [],
   "source": [
    "clfList = [linear_model.LinearRegression(), ensemble.RandomForestRegressor(), ensemble.GradientBoostingRegressor(),\n",
    "          xgb.XGBRegressor()]\n",
    "cvSplit = model_selection.ShuffleSplit(n_splits = 10, train_size = 0.5, test_size = 0.5, random_state = 0)\n",
    "maxDepthList = [2, 4, 6, 8, 10]\n",
    "nEstimatorsList = [10, 50, 100, 300]\n",
    "etaList = [0.1, 0.05, 0.01]\n",
    "gridSeedList = [0]\n",
    "gammaList = [0, 0.1, 0.2, 0.5, 1]\n",
    "colsample_bytreeList = [0.4, 0.5, 0.6, 1]\n",
    "gridBool = [True, False]\n",
    "paramGridList = [\n",
    "                [{'fit_intercept': gridBool}], [{'max_depth': maxDepthList, 'random_state': gridSeedList}],\n",
    "                [{'n_estimators': nEstimatorsList, 'max_depth': maxDepthList, 'random_state': gridSeedList}], \n",
    "                [{'max_depth': maxDepthList, 'gamma': gammaList, 'colsample_bytree': colsample_bytreeList}],\n",
    "                [{}]\n",
    "                ]\n",
    "bestScoreList = []\n",
    "for clf, param in zip(clfList, paramGridList):\n",
    "    bestSearch = model_selection.GridSearchCV(estimator = clf, param_grid = param, \n",
    "                                              cv = cvSplit, scoring = 'neg_mean_squared_error', n_jobs = 4)\n",
    "    bestSearch.fit(X, y)\n",
    "    bestParam = bestSearch.best_params_\n",
    "    bestScore = round((-bestSearch.best_score_)**0.5, 5) / 1000\n",
    "    print('The best parameter for {} is {} with a runtime of seconds with an error of {}'.format(clf.__class__.__name__, bestParam, bestScore))\n",
    "    clf.set_params(**bestParam) \n",
    "    bestScoreList.append(bestScore)\n",
    "print(\"--\"*45, \"\\nMax cross-validation score is {}\".format(round(min(bestScoreList), 5)))\n",
    "print(\"--\"*45, \"\\nAverage cross-validation score is {}\".format(sum(sorted(bestScoreList, reverse=False)[0:3]) / 3))"
   ]
  },
  {
   "cell_type": "code",
   "execution_count": null,
   "metadata": {},
   "outputs": [],
   "source": [
    "# Thanks to Serigne on kaggle.com\n",
    "class AveragingModels():\n",
    "    def __init__(self, models):\n",
    "        self.models = models\n",
    "        \n",
    "    # we define clones of the original models to fit the data in\n",
    "    def fit(self, X, y):\n",
    "        self.models_ = [clone(x) for x in self.models]\n",
    "        \n",
    "        # Train cloned base models\n",
    "        for model in self.models_:\n",
    "            model.fit(X, y)\n",
    "\n",
    "        return self\n",
    "    \n",
    "    #Now we do the predictions for cloned models and average them\n",
    "    def predict(self, X):\n",
    "        predictions = np.column_stack([\n",
    "            model.predict(X) for model in self.models_\n",
    "        ])\n",
    "        return np.mean(predictions, axis=1)"
   ]
  },
  {
   "cell_type": "code",
   "execution_count": null,
   "metadata": {},
   "outputs": [],
   "source": [
    "LassoRobust = make_pipeline(RobustScaler(), linear_model.Lasso(alpha =100, random_state=1))\n",
    "ENet = make_pipeline(RobustScaler(), linear_model.ElasticNet(alpha=0.5, l1_ratio=.9, random_state=3))\n",
    "KRR = KernelRidge(alpha=0.6, kernel='polynomial', degree=2, coef0=2.5)"
   ]
  },
  {
   "cell_type": "code",
   "execution_count": null,
   "metadata": {},
   "outputs": [],
   "source": [
    "averagingC = AveragingModels(models = (clfList[2], clfList[3]))\n",
    "averagingC.fit(Xtrain, ytrain) # Note we fit the Whole X, y\n",
    "arpredict = averagingC.predict(Xtest)\n",
    "print(metrics.mean_squared_log_error(ytest, arpredict)**0.5)\n",
    "predData = pd.DataFrame({'Index':ytest.index, 'SalePrice': ytest.values, 'SalePricePredicted':arpredict,\n",
    "                         'Error': arpredict - ytest.values})"
   ]
  },
  {
   "cell_type": "code",
   "execution_count": null,
   "metadata": {},
   "outputs": [],
   "source": [
    "averagingC.fit(X, y) # Note we fit the Whole X, y\n",
    "arpredict = averagingC.predict(Xtest)\n",
    "print(metrics.mean_squared_log_error(ytest, arpredict)**0.5)\n",
    "predData = pd.DataFrame({'Index':ytest.index, 'SalePrice': ytest.values, 'SalePricePredicted':arpredict,\n",
    "                         'Error': arpredict - ytest.values})"
   ]
  },
  {
   "cell_type": "code",
   "execution_count": null,
   "metadata": {},
   "outputs": [],
   "source": [
    "# votingC = clfList[2]\n",
    "# votingC.fit(Xtrain, ytrain) # Note we fit the Whole X, y\n",
    "# arpredict = votingC.predict(Xtest)\n",
    "# print(metrics.mean_squared_log_error(ytest, arpredict)**0.5)\n",
    "# predData = pd.DataFrame({'Index':ytest.index, 'SalePrice': ytest.values, 'SalePricePredicted':arpredict,\n",
    "#                          'Error': arpredict - ytest.values})"
   ]
  },
  {
   "cell_type": "code",
   "execution_count": null,
   "metadata": {},
   "outputs": [],
   "source": [
    "# votingC = clfList[2]\n",
    "# votingC.fit(X, y) # Note we fit the Whole X, y\n",
    "# arpredict = votingC.predict(Xtest)\n",
    "# print(metrics.mean_squared_log_error(ytest, arpredict)**0.5)\n",
    "# predData = pd.DataFrame({'Index':ytest.index, 'SalePrice': ytest.values, 'SalePricePredicted':arpredict,\n",
    "#                          'Error': arpredict - ytest.values})"
   ]
  },
  {
   "cell_type": "code",
   "execution_count": null,
   "metadata": {},
   "outputs": [],
   "source": [
    "trsh = 100000\n",
    "print(len(Xtest[abs(arpredict - ytest.values) > trsh]))\n",
    "predData[abs(arpredict - ytest.values) > trsh]"
   ]
  },
  {
   "cell_type": "code",
   "execution_count": null,
   "metadata": {},
   "outputs": [],
   "source": [
    "plt.hist(Xtest[abs(arpredict - ytest.values) > trsh]['OverallQual'])"
   ]
  },
  {
   "cell_type": "code",
   "execution_count": null,
   "metadata": {},
   "outputs": [],
   "source": [
    "ytest[abs(arpredict - ytest.values) > 100000]"
   ]
  },
  {
   "cell_type": "code",
   "execution_count": null,
   "metadata": {},
   "outputs": [],
   "source": [
    "testDataTemp = testData[selected_features]\n",
    "arpredict = averagingC.predict(testDataTemp)\n",
    "ypredict = pd.DataFrame({'Id': testData['Id'], 'SalePrice':arpredict})\n",
    "ypredict.to_csv('../predictions.csv', index = False)"
   ]
  },
  {
   "cell_type": "code",
   "execution_count": null,
   "metadata": {},
   "outputs": [],
   "source": [
    "ypredict.head()"
   ]
  },
  {
   "cell_type": "code",
   "execution_count": null,
   "metadata": {},
   "outputs": [],
   "source": []
  }
 ],
 "metadata": {
  "kernelspec": {
   "display_name": "Python 3",
   "language": "python",
   "name": "python3"
  },
  "language_info": {
   "codemirror_mode": {
    "name": "ipython",
    "version": 3
   },
   "file_extension": ".py",
   "mimetype": "text/x-python",
   "name": "python",
   "nbconvert_exporter": "python",
   "pygments_lexer": "ipython3",
   "version": "3.4.3"
  }
 },
 "nbformat": 4,
 "nbformat_minor": 2
}
